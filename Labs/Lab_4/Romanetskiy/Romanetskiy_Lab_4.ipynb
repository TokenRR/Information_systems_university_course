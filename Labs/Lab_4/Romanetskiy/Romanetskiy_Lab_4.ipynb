{
 "cells": [
  {
   "cell_type": "markdown",
   "metadata": {},
   "source": [
    "# КМ-01 | Романецький Микита | Лаб 4"
   ]
  },
  {
   "cell_type": "code",
   "execution_count": null,
   "metadata": {},
   "outputs": [],
   "source": [
    "import random\n",
    "import time\n",
    "\n",
    "import pika"
   ]
  },
  {
   "cell_type": "markdown",
   "metadata": {},
   "source": [
    "### Завдання 1: \n",
    "1. Змініть код <span style=\"color:#1E90FF\">Producer'а</span>, щоб він генерував інший текст повідомлень за Вашим \n",
    "вибором. \n",
    "2. Змініть назву черги повідомлень як у коді <span style=\"color:#1E90FF\">Producer'а</span>, так і в коді <span style=\"color:#FFD500\">Cоnsumer'а</span>  \n",
    "та переконайтеся, що вони використовують однакову назву черги. \n",
    "3. Змініть код <span style=\"color:#1E90FF\">Producer'а</span>, щоб генерувати повідомлення з іншим інтервалом. \n",
    "4. Змініть код <span style=\"color:#FFD500\">Cоnsumer'а</span>, щоб роздрукувати кількість повідомлень, які він \n",
    "отримав, на додаток до вмісту повідомлення. "
   ]
  },
  {
   "cell_type": "markdown",
   "metadata": {},
   "source": [
    "### Producer (Виробник)"
   ]
  },
  {
   "cell_type": "code",
   "execution_count": null,
   "metadata": {},
   "outputs": [],
   "source": [
    "def task_1_producer():\n",
    "    counter = 1\n",
    "    QUEUE = 'Romanetskiy'\n",
    "\n",
    "    while True:\n",
    "        time_to_sleep = random.randint(500, 5000) / 1000  # 0.5 - 5 секунд \n",
    "        time.sleep(time_to_sleep)\n",
    "\n",
    "        connection = pika.BlockingConnection(pika.ConnectionParameters('localhost'))\n",
    "        channel = connection.channel()\n",
    "\n",
    "        channel.queue_declare(queue=QUEUE, durable=False, exclusive=False, auto_delete=False)\n",
    "\n",
    "        message = f'Завдання 1 | Повідомлення {counter}'\n",
    "        body = message.encode('utf-8')\n",
    "\n",
    "        channel.basic_publish(exchange='', routing_key=QUEUE, body=body)\n",
    "\n",
    "        print(f'[LOG] Повідомлення N {counter} | (TTS = {time_to_sleep})')\n",
    "        counter += 1\n",
    "\n",
    "\n",
    "try:\n",
    "    task_1_producer()\n",
    "except KeyboardInterrupt:\n",
    "    print('[LOG] Зупинено')"
   ]
  },
  {
   "cell_type": "markdown",
   "metadata": {},
   "source": [
    "### Consumer (Споживач)\n",
    "\n",
    "<details>\n",
    "  <summary>Натисніть, щоб розгорнути</summary>\n",
    "\n",
    "  _Код закоментований, тому що на захисті буду запускати Producer та Consumer паралельно_\n",
    "\n",
    "</details>"
   ]
  },
  {
   "cell_type": "code",
   "execution_count": null,
   "metadata": {},
   "outputs": [],
   "source": [
    "# def task_1_consumer():\n",
    "#     global msg_counter\n",
    "#     msg_counter = 1\n",
    "#     QUEUE = 'Romanetskiy'\n",
    "\n",
    "#     connection = pika.BlockingConnection(pika.ConnectionParameters('localhost'))\n",
    "#     channel = connection.channel()\n",
    "\n",
    "#     def callback(ch, method, properties, body):\n",
    "#         global msg_counter\n",
    "#         print(f'Отримано повідомлення N {msg_counter}: {body.decode(\"utf-8\")}')\n",
    "#         msg_counter += 1\n",
    "\n",
    "#     channel.queue_declare(queue=QUEUE, durable=False, exclusive=False, auto_delete=False)\n",
    "\n",
    "#     channel.basic_consume(queue=QUEUE, on_message_callback=callback, auto_ack=True)\n",
    "\n",
    "#     print('\\n[LOG] Початок відстеження черги')\n",
    "#     channel.start_consuming()\n",
    "\n",
    "\n",
    "# try:\n",
    "#     task_1_consumer()\n",
    "# except KeyboardInterrupt:\n",
    "#     print('[LOG] Зупинено')"
   ]
  },
  {
   "cell_type": "markdown",
   "metadata": {},
   "source": [
    "<br/>"
   ]
  },
  {
   "cell_type": "markdown",
   "metadata": {},
   "source": [
    "### Завдання 2 | Варіант 16 : \n",
    "\n",
    "##### Створіть прямий обмін із трьома прив’язаними до нього чергами  \n",
    "1-а черга має отримувати повідомлення з ключем маршрутизації <span style=\"color:red\"> «alert:emergency» </span>  \n",
    "2-а черга має отримувати повідомлення з ключем маршрутизації <span style=\"color:#FF4500\"> «alert:urgent» </span>  \n",
    "3-я черга має отримувати повідомлення з ключем маршрутизації <span style=\"color:orange\"> «alert:warning» </span>  \n",
    "\n",
    "Додайте нове прив’язування до обмінника, щоб усі повідомлення з ключем  \n",
    "маршрутизації <span style=\"color:gold\"> «alert» </span> також надсилалися до черги <span style=\"color:orange\"> «alert:warning» </span>\n"
   ]
  },
  {
   "cell_type": "markdown",
   "metadata": {},
   "source": [
    "### Producer (Виробник)"
   ]
  },
  {
   "cell_type": "code",
   "execution_count": null,
   "metadata": {},
   "outputs": [],
   "source": [
    "def task_2_producer():\n",
    "    counter = 1\n",
    "    exchange_name = 'direct_alerts'\n",
    "\n",
    "    connection = pika.BlockingConnection(pika.ConnectionParameters('localhost'))\n",
    "    channel = connection.channel()\n",
    "\n",
    "    # Створення прямого обміну\n",
    "    channel.exchange_declare(exchange=exchange_name, exchange_type='direct')\n",
    "\n",
    "    while True:\n",
    "        time_to_sleep = 3\n",
    "        time.sleep(time_to_sleep)\n",
    "\n",
    "        # Генерування повідомлення з відповідним ключем маршрутизації\n",
    "        message = f\"   \\t Завдання 2 | Повідомлення {counter}\"\n",
    "        routing_key = random.choice(['alert:emergency', 'alert:urgent', 'alert:warning', 'alert'])\n",
    "        body = message.encode('utf-8')\n",
    "\n",
    "        # Надсилання повідомлення до прямого обміну з вказаним ключем маршрутизації\n",
    "        channel.basic_publish(exchange=exchange_name, routing_key=routing_key, body=body)\n",
    "\n",
    "        print(f'[LOG] Надіслано повідомлення {counter} | {routing_key}')\n",
    "        counter += 1\n",
    "\n",
    "\n",
    "try:\n",
    "    task_2_producer()\n",
    "except KeyboardInterrupt:\n",
    "    print('[LOG] Зупинено')"
   ]
  },
  {
   "cell_type": "markdown",
   "metadata": {},
   "source": [
    "### Consumer (Споживач)\n",
    "\n",
    "<details>\n",
    "  <summary>Натисніть, щоб розгорнути</summary>\n",
    "\n",
    "  _Код закоментований, тому що на захисті буду запускати Producer та Consumer паралельно_\n",
    "\n",
    "</details>"
   ]
  },
  {
   "cell_type": "code",
   "execution_count": null,
   "metadata": {},
   "outputs": [],
   "source": [
    "# def task_2_consumer():\n",
    "#     connection = pika.BlockingConnection(pika.ConnectionParameters('localhost'))\n",
    "#     channel = connection.channel()\n",
    "\n",
    "#     exchange_name = 'direct_alerts'\n",
    "\n",
    "#     channel.exchange_declare(exchange=exchange_name, exchange_type='direct')\n",
    "\n",
    "#     def emergency_callback(ch, method, properties, body):\n",
    "#         print(f\"Отримано повідомлення з ключем маршрутизації 'alert:emergency': {body.decode('utf-8')}\")\n",
    "\n",
    "#     def urgent_callback(ch, method, properties, body):\n",
    "#         print(f\"Отримано повідомлення з ключем маршрутизації 'alert:urgent': {body.decode('utf-8')}\")\n",
    "\n",
    "#     def warning_callback(ch, method, properties, body):\n",
    "#         print(f\"Отримано повідомлення з ключем маршрутизації 'alert:warning': {body.decode('utf-8')}\")\n",
    "\n",
    "#     # Черга для 'alert:emergency'\n",
    "#     emergency_queue = 'emergency_queue'\n",
    "#     channel.queue_declare(queue=emergency_queue, durable=False)\n",
    "#     channel.queue_bind(exchange=exchange_name, queue=emergency_queue, routing_key='alert:emergency')\n",
    "#     channel.basic_consume(queue=emergency_queue, on_message_callback=emergency_callback, auto_ack=True)\n",
    "\n",
    "#     # Черга для 'alert:urgent'\n",
    "#     urgent_queue = 'urgent_queue'\n",
    "#     channel.queue_declare(queue=urgent_queue, durable=False)\n",
    "#     channel.queue_bind(exchange=exchange_name, queue=urgent_queue, routing_key='alert:urgent')\n",
    "#     channel.basic_consume(queue=urgent_queue, on_message_callback=urgent_callback, auto_ack=True)\n",
    "\n",
    "#     # Черга для 'alert:warning'\n",
    "#     warning_queue = 'warning_queue'\n",
    "#     channel.queue_declare(queue=warning_queue, durable=False)\n",
    "#     channel.queue_bind(exchange=exchange_name, queue=warning_queue, routing_key='alert:warning')\n",
    "#     channel.queue_bind(exchange=exchange_name, queue=warning_queue, routing_key='alert')\n",
    "#     channel.basic_consume(queue=warning_queue, on_message_callback=warning_callback, auto_ack=True)\n",
    "\n",
    "#     print('\\n[LOG] Початок відстеження черг')\n",
    "#     channel.start_consuming()\n",
    "\n",
    "\n",
    "# try:\n",
    "#     task_2_consumer()\n",
    "# except KeyboardInterrupt:\n",
    "#     print('[LOG] Зупинено')"
   ]
  },
  {
   "cell_type": "markdown",
   "metadata": {},
   "source": [
    "<br/>"
   ]
  },
  {
   "cell_type": "markdown",
   "metadata": {},
   "source": [
    "### Завдання 3 | Варіант 16 :  \n",
    "\n",
    "##### Створіть обмінник для веб-сайту електронної комерції  \n",
    "Ключі маршрутизації мають формат `\"product.<category>.<action>\"`  \n",
    "Категорією може бути <span style=\"color:#1E90FF\"> електроніка, одяг, книги, тощо</span>  \n",
    "Дією може бути- <span style=\"color:#FFD500\"> create, update чи delete</span>    \n",
    "\n",
    "Майте єдину чергу, яка підписується на обмінник, щоб відстежувати всі зміни (update) продукту."
   ]
  },
  {
   "cell_type": "markdown",
   "metadata": {},
   "source": [
    "### Producer (Виробник)"
   ]
  },
  {
   "cell_type": "code",
   "execution_count": null,
   "metadata": {},
   "outputs": [],
   "source": [
    "def task_3_producer():\n",
    "    counter = 1\n",
    "    connection = pika.BlockingConnection(pika.ConnectionParameters('localhost'))\n",
    "    channel = connection.channel()\n",
    "\n",
    "    channel.exchange_declare(exchange='product_exchange', exchange_type='topic')\n",
    "\n",
    "    while True:\n",
    "        time_to_sleep = random.randint(1, 3)\n",
    "        time.sleep(time_to_sleep)\n",
    "\n",
    "        category = random.choice(['electronics', 'clothing', 'books'])  # список можливих категорій\n",
    "        action = random.choice(['create', 'update', 'delete'])  #  список можливих дій\n",
    "\n",
    "        routing_key = f\"product.{category}.{action}\"\n",
    "        message = f'Продукт {action} в категорії {category}'\n",
    "        body = message.encode('utf-8')\n",
    "\n",
    "        channel.basic_publish(exchange='product_exchange', routing_key=routing_key, body=body)\n",
    "\n",
    "        print(f'[LOG] Надіслано повідомлення {counter}\\t| {routing_key}   \\t| {message}')\n",
    "        counter += 1\n",
    "\n",
    "\n",
    "try:\n",
    "    task_3_producer()\n",
    "except KeyboardInterrupt:\n",
    "    print('[LOG] Зупинено')"
   ]
  },
  {
   "cell_type": "markdown",
   "metadata": {},
   "source": [
    "### Consumer (Споживач)\n",
    "\n",
    "<details>\n",
    "  <summary>Натисніть, щоб розгорнути</summary>\n",
    "\n",
    "  _Код закоментований, тому що на захисті буду запускати Producer та Consumer паралельно_\n",
    "\n",
    "</details>"
   ]
  },
  {
   "cell_type": "code",
   "execution_count": null,
   "metadata": {},
   "outputs": [],
   "source": [
    "# def task_3_consumer():\n",
    "#     connection = pika.BlockingConnection(pika.ConnectionParameters('localhost'))\n",
    "#     channel = connection.channel()\n",
    "\n",
    "#     def callback(ch, method, properties, body):\n",
    "#         print(f'Отримано повідомлення: {body.decode(\"utf-8\")}')\n",
    "\n",
    "#     channel.exchange_declare(exchange='product_exchange', exchange_type='topic')\n",
    "#     channel.queue_declare(queue='product_changes')\n",
    "\n",
    "#     # Видалення всіх існуючих зв'язків для queue\n",
    "#     for rk in ['product.*.*', 'product.*.update']:\n",
    "#         channel.queue_unbind(queue='product_changes', exchange='product_exchange', routing_key=rk)\n",
    "\n",
    "#     channel.queue_bind(exchange='product_exchange', queue='product_changes', routing_key='product.*.*')\n",
    "#     # channel.queue_bind(exchange='product_exchange', queue='product_changes', routing_key='product.*.update')\n",
    "\n",
    "#     channel.basic_consume(queue='product_changes', on_message_callback=callback, auto_ack=True)\n",
    "\n",
    "#     print('\\n[LOG] Початок відстеження черги')\n",
    "#     channel.start_consuming()\n",
    "\n",
    "\n",
    "# try:\n",
    "#     task_3_consumer()\n",
    "# except KeyboardInterrupt:\n",
    "#     print('[LOG] Зупинено')"
   ]
  },
  {
   "cell_type": "markdown",
   "metadata": {},
   "source": [
    "<br/>"
   ]
  },
  {
   "cell_type": "markdown",
   "metadata": {},
   "source": [
    "### Висновки  \n",
    "\n",
    "У ході лабораторної роботи ознайомився із базовими принципами роботи брокера повідомлень RabbitMQ та його  використання для асинхронного обміну повідомленнями. В процесі були вивчені основні концепції такі, як Producer,  Consumer, обмінники та черги.  \n",
    "\n",
    "Завдання дозволили провести практичні вправи із зміною коду, створенням прив’язаних черг, та роботою із ключами  маршрутизації. Результатом стала практична робота із реальними сценаріями використання брокера повідомлень для  організації асинхронного обміну повідомленнями в розподілених системах.\n"
   ]
  }
 ],
 "metadata": {
  "kernelspec": {
   "display_name": ".venv",
   "language": "python",
   "name": "python3"
  },
  "language_info": {
   "codemirror_mode": {
    "name": "ipython",
    "version": 3
   },
   "file_extension": ".py",
   "mimetype": "text/x-python",
   "name": "python",
   "nbconvert_exporter": "python",
   "pygments_lexer": "ipython3",
   "version": "3.11.3"
  }
 },
 "nbformat": 4,
 "nbformat_minor": 2
}
